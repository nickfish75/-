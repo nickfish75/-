{
 "cells": [
  {
   "cell_type": "code",
   "execution_count": 80,
   "metadata": {
    "scrolled": true
   },
   "outputs": [
    {
     "name": "stdout",
     "output_type": "stream",
     "text": [
      "請輸入一個的數值９\n",
      "數字小於50開根號乘10等於30.000\n"
     ]
    }
   ],
   "source": [
    "grade = float(input(\"請輸入一個的數值\"))\n",
    "if grade < 50:\n",
    " print (\"數字小於50開根號乘10等於%0.3f\" %(grade**0.5*10))\n",
    "else:\n",
    " print (\"數字大於50\")"
   ]
  },
  {
   "cell_type": "code",
   "execution_count": 79,
   "metadata": {},
   "outputs": [
    {
     "name": "stdout",
     "output_type": "stream",
     "text": [
      "請輸入一個的數值２２５\n",
      "數字大於50再加十235.000\n"
     ]
    }
   ],
   "source": [
    "grade = float(input(\"請輸入一個的數值\"))\n",
    "if grade < 50:\n",
    " print (\"數字小於50開根號乘10等於%0.3f\" %(grade**0.5*10))\n",
    "else:\n",
    " print (\"數字大於50再加十%0.3f\" %(grade+10))"
   ]
  },
  {
   "cell_type": "code",
   "execution_count": 90,
   "metadata": {},
   "outputs": [
    {
     "name": "stdout",
     "output_type": "stream",
     "text": [
      "請輸入一個的數值30\n",
      "成績為Ｅ等不及格\n"
     ]
    }
   ],
   "source": [
    "grade = float(input(\"請輸入一個的數值\"))\n",
    "if grade >= 60 :\n",
    "    if grade > 69:\n",
    "        if grade > 79:\n",
    "            if grade > 89 and grade <= 100:\n",
    "               print (\"成績為Ａ等\")\n",
    "            else:\n",
    "               print (\"成績為Ｂ等\")\n",
    "        else:\n",
    "           print (\"成績為Ｃ等\")\n",
    "    else:\n",
    "       print (\"成績為Ｄ等\")\n",
    "else:\n",
    " print (\"成績為Ｅ等不及格\")"
   ]
  },
  {
   "cell_type": "code",
   "execution_count": 95,
   "metadata": {
    "scrolled": true
   },
   "outputs": [
    {
     "name": "stdout",
     "output_type": "stream",
     "text": [
      "1*1=1\t1*2=2\t1*3=3\t1*4=4\t1*5=5\t1*6=6\t1*7=7\t1*8=8\t1*9=9\t\n",
      "2*1=2\t2*2=4\t2*3=6\t2*4=8\t2*5=10\t2*6=12\t2*7=14\t2*8=16\t2*9=18\t\n",
      "3*1=3\t3*2=6\t3*3=9\t3*4=12\t3*5=15\t3*6=18\t3*7=21\t3*8=24\t3*9=27\t\n",
      "4*1=4\t4*2=8\t4*3=12\t4*4=16\t4*5=20\t4*6=24\t4*7=28\t4*8=32\t4*9=36\t\n",
      "5*1=5\t5*2=10\t5*3=15\t5*4=20\t5*5=25\t5*6=30\t5*7=35\t5*8=40\t5*9=45\t\n",
      "6*1=6\t6*2=12\t6*3=18\t6*4=24\t6*5=30\t6*6=36\t6*7=42\t6*8=48\t6*9=54\t\n",
      "7*1=7\t7*2=14\t7*3=21\t7*4=28\t7*5=35\t7*6=42\t7*7=49\t7*8=56\t7*9=63\t\n",
      "8*1=8\t8*2=16\t8*3=24\t8*4=32\t8*5=40\t8*6=48\t8*7=56\t8*8=64\t8*9=72\t\n",
      "9*1=9\t9*2=18\t9*3=27\t9*4=36\t9*5=45\t9*6=54\t9*7=63\t9*8=72\t9*9=81\t\n"
     ]
    }
   ],
   "source": [
    "for i in range(1,10):\n",
    "      for j in range(1,10):\n",
    "            print(i, '*', j, '=', i*j, '\\t', sep='',end='')\n",
    "      print()"
   ]
  },
  {
   "cell_type": "code",
   "execution_count": 96,
   "metadata": {},
   "outputs": [
    {
     "name": "stdout",
     "output_type": "stream",
     "text": [
      "請輸入金額10000\n",
      "請輸入年收益率0.24\n",
      "請輸入經過幾個月份5\n",
      "第 1 個月份的金額10200.000000\n",
      "第 2 個月份的金額10404.000000\n",
      "第 3 個月份的金額10612.080000\n",
      "第 4 個月份的金額10824.321600\n"
     ]
    }
   ],
   "source": [
    "cash = float(input(\"請輸入金額\"))\n",
    "rate = float(input(\"請輸入年收益率\"))\n",
    "month = int(input(\"請輸入經過幾個月份\"))\n",
    "for i in range(1,month):    \n",
    "  print (\"第\",i,\"個月份的金額%f\" %((cash+cash*rate/12)*(((1+rate/12)**(i-1)))))"
   ]
  }
 ],
 "metadata": {
  "kernelspec": {
   "display_name": "Python 3",
   "language": "python",
   "name": "python3"
  },
  "language_info": {
   "codemirror_mode": {
    "name": "ipython",
    "version": 3
   },
   "file_extension": ".py",
   "mimetype": "text/x-python",
   "name": "python",
   "nbconvert_exporter": "python",
   "pygments_lexer": "ipython3",
   "version": "3.7.0"
  }
 },
 "nbformat": 4,
 "nbformat_minor": 2
}
