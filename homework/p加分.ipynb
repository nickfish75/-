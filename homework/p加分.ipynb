{
 "cells": [
  {
   "cell_type": "code",
   "execution_count": 28,
   "metadata": {},
   "outputs": [
    {
     "name": "stdout",
     "output_type": "stream",
     "text": [
      "myheight176\n"
     ]
    }
   ],
   "source": [
    "my_height = 176\n",
    "print (\"myheight%d\" %(my_height))"
   ]
  },
  {
   "cell_type": "code",
   "execution_count": 25,
   "metadata": {},
   "outputs": [
    {
     "name": "stdout",
     "output_type": "stream",
     "text": [
      "myweight76.50\n"
     ]
    }
   ],
   "source": [
    "my_weight = 76.5\n",
    "print (\"myweight%0.2f\" %(my_weight) )"
   ]
  },
  {
   "cell_type": "code",
   "execution_count": 20,
   "metadata": {},
   "outputs": [
    {
     "name": "stdout",
     "output_type": "stream",
     "text": [
      "bmi=24.697\n"
     ]
    }
   ],
   "source": [
    "my_height = 176\n",
    "my_weight = 76.5\n",
    "bmi = 76.5 / (176 / 100)**2\n",
    "print(\"bmi=%0.3f\" %(bmi))"
   ]
  },
  {
   "cell_type": "code",
   "execution_count": 29,
   "metadata": {},
   "outputs": [
    {
     "data": {
      "text/plain": [
       "(10, 'Matthew Perry')"
      ]
     },
     "execution_count": 29,
     "metadata": {},
     "output_type": "execute_result"
    }
   ],
   "source": [
    "friends_list={\n",
    "\"genre\" : \"SitCom\",\n",
    "\"seasons\" : 10,\n",
    "\"episodes\" : 236,\n",
    "\"stars\" : [\"Jennifer Aniston\", \"Courteney Cox\", \"Lisa Kudrow\",\n",
    "\"Matt LeBlanc\", \"Matthew Perry\", \"David Schwimmer\"]\n",
    "}\n",
    "friends_list[\"seasons\"],friends_list[\"stars\"][4]"
   ]
  },
  {
   "cell_type": "code",
   "execution_count": 30,
   "metadata": {},
   "outputs": [
    {
     "name": "stdout",
     "output_type": "stream",
     "text": [
      "Rachel Green Monica Geller Phoebe Buffay\n"
     ]
    }
   ],
   "source": [
    "characters = [\"Rachel Green\", \"Monica Geller\", \"Phoebe Buffay\", \"Matt LeBlanc\", \"Matthew Perry\", \"David Schwimmer\"]\n",
    "print (characters[0],characters[1],characters[2])\n"
   ]
  },
  {
   "cell_type": "code",
   "execution_count": 31,
   "metadata": {},
   "outputs": [
    {
     "name": "stdout",
     "output_type": "stream",
     "text": [
      "['red', 'green', 'blue', 'green', 'red', 'blue', 'green', 'green', 'red', 'blue']\n"
     ]
    }
   ],
   "source": [
    "rgb_col_list = [\"red\", \"green\", \"blue\", \"green\", \"red\", \"blue\", \"green\", \"green\", \"red\", \"blue\"]\n",
    "rgb_col_set = rgb_col_list\n",
    "print (rgb_col_set)"
   ]
  },
  {
   "cell_type": "code",
   "execution_count": 32,
   "metadata": {},
   "outputs": [
    {
     "name": "stdout",
     "output_type": "stream",
     "text": [
      "Matthew Perry\n"
     ]
    }
   ],
   "source": [
    "friends_dict = {\n",
    " \"genre\": \"sitcom\",\n",
    " \"seasons\": 10,\n",
    " \"episodes\": 236,\n",
    " \"starrings\": [\"Jennifer Aniston\", \"Courteney Cox\", \"Lisa Kudrow\", \"Matt LeBlanc\", \"Matthew Perry\", \"David Schwimmer\"]\n",
    "}\n",
    "print (friends_dict[\"starrings\"][4])"
   ]
  },
  {
   "cell_type": "code",
   "execution_count": null,
   "metadata": {},
   "outputs": [],
   "source": []
  }
 ],
 "metadata": {
  "kernelspec": {
   "display_name": "Python 3",
   "language": "python",
   "name": "python3"
  },
  "language_info": {
   "codemirror_mode": {
    "name": "ipython",
    "version": 3
   },
   "file_extension": ".py",
   "mimetype": "text/x-python",
   "name": "python",
   "nbconvert_exporter": "python",
   "pygments_lexer": "ipython3",
   "version": "3.7.0"
  }
 },
 "nbformat": 4,
 "nbformat_minor": 2
}
