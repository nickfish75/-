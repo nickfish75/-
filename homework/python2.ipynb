{
 "cells": [
  {
   "cell_type": "code",
   "execution_count": 84,
   "metadata": {},
   "outputs": [
    {
     "name": "stdout",
     "output_type": "stream",
     "text": [
      "天氣是晴天，去⼾外跑步\n"
     ]
    }
   ],
   "source": [
    "weathers = [\"晴天\", \"下雨\"]\n",
    "weather = weathers[random.randint(0, 1)]\n",
    "if weather == \"晴天\":\n",
    " print (\"天氣是%s，去⼾外跑步\" % weather)\n",
    "else:\n",
    " print (\"天氣是%s，去健⾝房\" % weather)"
   ]
  },
  {
   "cell_type": "code",
   "execution_count": 85,
   "metadata": {},
   "outputs": [
    {
     "name": "stdout",
     "output_type": "stream",
     "text": [
      "天氣是下雨，去健⾝房\n"
     ]
    }
   ],
   "source": [
    "weathers = [\"晴天\", \"下雨\", \"暴風雨\"]\n",
    "weather = weathers[random.randint(0, 2)]\n",
    "if weather == \"晴天\":\n",
    " print (\"天氣是%s，去⼾外跑步\" % weather)\n",
    "elif weather == \"下雨\":\n",
    " print (\"天氣是%s，去健⾝房\" % weather)\n",
    "else:\n",
    " print (\"天氣是%s，睡回籠覺\" % weather)"
   ]
  },
  {
   "cell_type": "code",
   "execution_count": 74,
   "metadata": {},
   "outputs": [
    {
     "name": "stdout",
     "output_type": "stream",
     "text": [
      "奇數\n"
     ]
    }
   ],
   "source": [
    "X=5\n",
    "print('{0}'.format(\"偶數\" if (X%2)==0 else \"奇數\"))"
   ]
  },
  {
   "cell_type": "code",
   "execution_count": 17,
   "metadata": {},
   "outputs": [
    {
     "name": "stdout",
     "output_type": "stream",
     "text": [
      "Jennifer Aniston\n",
      "Courteney Cox\n",
      "Lisa Kudrow\n",
      "Matt LeBlanc\n",
      "Matthew Perry\n",
      "David Schwimmer\n"
     ]
    }
   ],
   "source": [
    "starrings = [\"Jennifer Aniston\", \"Courteney Cox\", \"Lisa Kudrow\", \"Matt LeBlanc\", \"Matthew Perry\", \"David Schwimmer\"]\n",
    "print (starrings[0])\n",
    "print (starrings[1])\n",
    "print (starrings[2])\n",
    "print (starrings[3])\n",
    "print (starrings[4])\n",
    "print (starrings[5])"
   ]
  },
  {
   "cell_type": "code",
   "execution_count": 18,
   "metadata": {},
   "outputs": [
    {
     "name": "stdout",
     "output_type": "stream",
     "text": [
      "Jennifer Aniston\n",
      "Courteney Cox\n",
      "Lisa Kudrow\n",
      "Matt LeBlanc\n",
      "Matthew Perry\n",
      "David Schwimmer\n"
     ]
    }
   ],
   "source": [
    "starrings = [\"Jennifer Aniston\", \"Courteney Cox\", \"Lisa Kudrow\", \"Matt LeBlanc\", \"Matthew Perry\", \"David Schwimmer\"]\n",
    "i = 0\n",
    "while i < 6:\n",
    " print (starrings[i])\n",
    " i += 1"
   ]
  },
  {
   "cell_type": "code",
   "execution_count": 20,
   "metadata": {},
   "outputs": [
    {
     "name": "stdout",
     "output_type": "stream",
     "text": [
      "Jennifer Aniston\n",
      "Courteney Cox\n",
      "Lisa Kudrow\n",
      "Matt LeBlanc\n",
      "Matthew Perry\n",
      "David Schwimmer\n",
      "0: Jennifer Aniston\n",
      "1: Courteney Cox\n",
      "2: Lisa Kudrow\n",
      "3: Matt LeBlanc\n",
      "4: Matthew Perry\n",
      "5: David Schwimmer\n"
     ]
    }
   ],
   "source": [
    "starrings = [\"Jennifer Aniston\", \"Courteney Cox\", \"Lisa Kudrow\", \"Matt LeBlanc\", \"Matthew Perry\", \"David Schwimmer\"]\n",
    "for i in range(len(starrings)):\n",
    " print (starrings[i])\n",
    "starrings = [\"Jennifer Aniston\", \"Courteney Cox\", \"Lisa Kudrow\", \"Matt LeBlanc\", \"Matthew Perry\", \"David Schwimmer\"]\n",
    "for (index, starring) in enumerate(starrings):\n",
    " print (\"%i: %s\" % (index, starring))"
   ]
  },
  {
   "cell_type": "code",
   "execution_count": 21,
   "metadata": {},
   "outputs": [
    {
     "name": "stdout",
     "output_type": "stream",
     "text": [
      "Rachel Green 由 Jennifer Aniston 主演\n",
      "Monica Geller 由 Courteney Cox 主演\n",
      "Phoebe Buffay 由 Lisa Kudrow 主演\n",
      "Joey Tribbiani 由 Matt LeBlanc 主演\n",
      "Chandler Bing 由 Matthew Perry 主演\n",
      "Ross Geller 由 David Schwimmer 主演\n"
     ]
    }
   ],
   "source": [
    "characters = [\"Rachel Green\", \"Monica Geller\", \"Phoebe Buffay\", \"Joey Tribbiani\", \"Chandler Bing\", \"Ross Geller\"]\n",
    "starrings = [\"Jennifer Aniston\", \"Courteney Cox\", \"Lisa Kudrow\", \"Matt LeBlanc\", \"Matthew Perry\", \"David Schwimmer\"]\n",
    "for (character, star) in zip(characters, starrings):\n",
    " print (character + \" 由 \" + star + \" 主演\")"
   ]
  },
  {
   "cell_type": "code",
   "execution_count": 22,
   "metadata": {},
   "outputs": [
    {
     "name": "stdout",
     "output_type": "stream",
     "text": [
      "Jennifer Aniston\n",
      "Courteney Cox\n",
      "Lisa Kudrow\n",
      "Matt LeBlanc\n",
      "Matthew Perry\n",
      "David Schwimmer\n"
     ]
    }
   ],
   "source": [
    "starrings = [\"Jennifer Aniston\", \"Courteney Cox\", \"Lisa Kudrow\", \"Matt LeBlanc\", \"Matthew Perry\", \"David Schwimmer\"]\n",
    "for starring in starrings:\n",
    " print (starring)"
   ]
  },
  {
   "cell_type": "code",
   "execution_count": 23,
   "metadata": {},
   "outputs": [
    {
     "name": "stdout",
     "output_type": "stream",
     "text": [
      "Rachel Green\n",
      "Monica Geller\n",
      "Phoebe Buffay\n",
      "Joey Tribbiani\n",
      "Chandler Bing\n",
      "Ross Geller\n"
     ]
    }
   ],
   "source": [
    "starrings = {\n",
    " \"Rachel Green\": \"Jennifer Aniston\",\n",
    " \"Monica Geller\": \"Courteney Cox\",\n",
    " \"Phoebe Buffay\": \"Lisa Kudrow\",\n",
    " \"Joey Tribbiani\": \"Matt LeBlanc\",\n",
    " \"Chandler Bing\": \"Matthew Perry\",\n",
    " \"Ross Geller\": \"David Schwimmer\"\n",
    "}\n",
    "for starring in starrings:\n",
    " print (starring)"
   ]
  },
  {
   "cell_type": "code",
   "execution_count": 24,
   "metadata": {},
   "outputs": [
    {
     "name": "stdout",
     "output_type": "stream",
     "text": [
      "Rachel Green\n",
      "Monica Geller\n",
      "Phoebe Buffay\n",
      "Joey Tribbiani\n",
      "Chandler Bing\n",
      "Ross Geller\n",
      "---\n",
      "Jennifer Aniston\n",
      "Courteney Cox\n",
      "Lisa Kudrow\n",
      "Matt LeBlanc\n",
      "Matthew Perry\n",
      "David Schwimmer\n"
     ]
    }
   ],
   "source": [
    "starrings = {\n",
    " \"Rachel Green\": \"Jennifer Aniston\",\n",
    " \"Monica Geller\": \"Courteney Cox\",\n",
    " \"Phoebe Buffay\": \"Lisa Kudrow\",\n",
    " \"Joey Tribbiani\": \"Matt LeBlanc\",\n",
    " \"Chandler Bing\": \"Matthew Perry\",\n",
    " \"Ross Geller\": \"David Schwimmer\"\n",
    "}\n",
    "for starring in starrings.keys():\n",
    " print (starring)\n",
    "print(\"---\")\n",
    "for starring in starrings.values():\n",
    " print (starring)"
   ]
  },
  {
   "cell_type": "code",
   "execution_count": 25,
   "metadata": {},
   "outputs": [
    {
     "name": "stdout",
     "output_type": "stream",
     "text": [
      "Rachel Green 由 Jennifer Aniston 演出\n",
      "Monica Geller 由 Courteney Cox 演出\n",
      "Phoebe Buffay 由 Lisa Kudrow 演出\n",
      "Joey Tribbiani 由 Matt LeBlanc 演出\n",
      "Chandler Bing 由 Matthew Perry 演出\n",
      "Ross Geller 由 David Schwimmer 演出\n"
     ]
    }
   ],
   "source": [
    "starrings = {\n",
    " \"Rachel Green\": \"Jennifer Aniston\",\n",
    " \"Monica Geller\": \"Courteney Cox\",\n",
    " \"Phoebe Buffay\": \"Lisa Kudrow\",\n",
    " \"Joey Tribbiani\": \"Matt LeBlanc\",\n",
    " \"Chandler Bing\": \"Matthew Perry\",\n",
    " \"Ross Geller\": \"David Schwimmer\"\n",
    "}\n",
    "for (key, value) in starrings.items():\n",
    " print (\"%s 由 %s 演出\" % (key, value))"
   ]
  },
  {
   "cell_type": "code",
   "execution_count": 26,
   "metadata": {},
   "outputs": [
    {
     "name": "stdout",
     "output_type": "stream",
     "text": [
      "Rachel Green 由 Jennifer Aniston 主演\n",
      "Monica Geller 由 Courteney Cox 主演\n",
      "Phoebe Buffay 由 Lisa Kudrow 主演\n",
      "Joey Tribbiani 由 Matt LeBlanc 主演\n",
      "Chandler Bing 由 Matthew Perry 主演\n",
      "Ross Geller 由 David Schwimmer 主演\n"
     ]
    }
   ],
   "source": [
    "starrings = [\n",
    " (\"Rachel Green\", \"Jennifer Aniston\"),\n",
    " (\"Monica Geller\", \"Courteney Cox\"),\n",
    " (\"Phoebe Buffay\", \"Lisa Kudrow\"),\n",
    " (\"Joey Tribbiani\", \"Matt LeBlanc\"),\n",
    " (\"Chandler Bing\", \"Matthew Perry\"),\n",
    " (\"Ross Geller\", \"David Schwimmer\")\n",
    "]\n",
    "for (character, star) in starrings:\n",
    " print (character + \" 由 \" + star + \" 主演\")"
   ]
  },
  {
   "cell_type": "code",
   "execution_count": 27,
   "metadata": {},
   "outputs": [
    {
     "name": "stdout",
     "output_type": "stream",
     "text": [
      "['Head', 'Tail', 'Head', 'Head']\n",
      "4\n"
     ]
    }
   ],
   "source": [
    "import random\n",
    "coin_flips = [] # 建立⼀個空的清單放置每⼀次投擲的結果\n",
    "coin = [\"Head\", \"Tail\"]\n",
    "while coin_flips.count(\"Head\") < 3:\n",
    " coin_flips.append(coin[random.randint(0, 1)])\n",
    "print (coin_flips) # 印出每次投擲的紀錄\n",
    "print (len(coin_flips)) # 總共投擲了幾次"
   ]
  },
  {
   "cell_type": "code",
   "execution_count": 30,
   "metadata": {},
   "outputs": [
    {
     "name": "stdout",
     "output_type": "stream",
     "text": [
      "1 2 3 4 1 2 3 4 6 7 8 9 "
     ]
    }
   ],
   "source": [
    "for x in range(1,10):\n",
    " if x==5:\n",
    "  break\n",
    " print(x, end=\" \")\n",
    "for x in range(1,10):\n",
    " if x==5:\n",
    "  continue\n",
    " print(x, end=\" \")"
   ]
  },
  {
   "cell_type": "code",
   "execution_count": 32,
   "metadata": {},
   "outputs": [
    {
     "name": "stdout",
     "output_type": "stream",
     "text": [
      "Jennifer Aniston\n",
      "Courteney Cox\n",
      "Lisa Kudrow\n"
     ]
    }
   ],
   "source": [
    "starrings = [\"Jennifer Aniston\", \"Courteney Cox\", \"Lisa Kudrow\", \"Matt LeBlanc\", \"Matthew Perry\", \"David Schwimmer\"]\n",
    "for starring in starrings:\n",
    " if starring == \"Matt LeBlanc\":\n",
    "  break\n",
    " print (starring)"
   ]
  },
  {
   "cell_type": "code",
   "execution_count": 33,
   "metadata": {},
   "outputs": [
    {
     "name": "stdout",
     "output_type": "stream",
     "text": [
      "Jennifer Aniston\n",
      "Courteney Cox\n",
      "Lisa Kudrow\n",
      "Matthew Perry\n",
      "David Schwimmer\n"
     ]
    }
   ],
   "source": [
    "starrings = [\"Jennifer Aniston\", \"Courteney Cox\", \"Lisa Kudrow\", \"Matt LeBlanc\", \"Matthew Perry\", \"David Schwimmer\"]\n",
    "for starring in starrings:\n",
    " if starring == \"Matt LeBlanc\":\n",
    "  continue\n",
    " print (starring)"
   ]
  },
  {
   "cell_type": "code",
   "execution_count": 124,
   "metadata": {},
   "outputs": [
    {
     "name": "stdout",
     "output_type": "stream",
     "text": [
      "6\n",
      "6\n",
      "1 2 3\n"
     ]
    },
    {
     "ename": "TypeError",
     "evalue": "'a' is an invalid keyword argument for print()",
     "output_type": "error",
     "traceback": [
      "\u001b[1;31m---------------------------------------------------------------------------\u001b[0m",
      "\u001b[1;31mTypeError\u001b[0m                                 Traceback (most recent call last)",
      "\u001b[1;32m<ipython-input-124-470e4cdd6c81>\u001b[0m in \u001b[0;36m<module>\u001b[1;34m()\u001b[0m\n\u001b[0;32m      5\u001b[0m \u001b[0mprint\u001b[0m\u001b[1;33m(\u001b[0m\u001b[0mfunc\u001b[0m\u001b[1;33m(\u001b[0m\u001b[0mc\u001b[0m\u001b[1;33m=\u001b[0m\u001b[1;36m3\u001b[0m\u001b[1;33m,\u001b[0m\u001b[0mb\u001b[0m\u001b[1;33m=\u001b[0m\u001b[1;36m2\u001b[0m\u001b[1;33m,\u001b[0m\u001b[0ma\u001b[0m\u001b[1;33m=\u001b[0m\u001b[1;36m1\u001b[0m\u001b[1;33m)\u001b[0m\u001b[1;33m)\u001b[0m\u001b[1;33m\u001b[0m\u001b[0m\n\u001b[0;32m      6\u001b[0m \u001b[0mprint\u001b[0m\u001b[1;33m(\u001b[0m\u001b[1;36m1\u001b[0m\u001b[1;33m,\u001b[0m\u001b[1;36m2\u001b[0m\u001b[1;33m,\u001b[0m\u001b[1;36m3\u001b[0m\u001b[1;33m)\u001b[0m\u001b[1;33m\u001b[0m\u001b[0m\n\u001b[1;32m----> 7\u001b[1;33m \u001b[0mprint\u001b[0m\u001b[1;33m(\u001b[0m\u001b[0ma\u001b[0m\u001b[1;33m=\u001b[0m\u001b[1;36m1\u001b[0m\u001b[1;33m,\u001b[0m\u001b[0mb\u001b[0m\u001b[1;33m=\u001b[0m\u001b[1;36m2\u001b[0m\u001b[1;33m,\u001b[0m\u001b[0mc\u001b[0m\u001b[1;33m=\u001b[0m\u001b[1;36m3\u001b[0m\u001b[1;33m)\u001b[0m\u001b[1;33m\u001b[0m\u001b[0m\n\u001b[0m",
      "\u001b[1;31mTypeError\u001b[0m: 'a' is an invalid keyword argument for print()"
     ]
    }
   ],
   "source": [
    "def func(a,b,c):\n",
    " x = a + b + c\n",
    " return x\n",
    "print(func(1,2,3))\n",
    "print(func(c=3,b=2,a=1))\n",
    "print(1,2,3)\n",
    "print(a=1,b=2,c=3)"
   ]
  },
  {
   "cell_type": "code",
   "execution_count": 39,
   "metadata": {},
   "outputs": [
    {
     "name": "stdout",
     "output_type": "stream",
     "text": [
      "Over\n",
      "<class 'str'>\n",
      "30\n",
      "200\n"
     ]
    }
   ],
   "source": [
    "def func(x):\n",
    " if x < 10:\n",
    "  return x\n",
    " else:\n",
    "  return \"Over\"\n",
    "a = func(15)\n",
    "print(a)\n",
    "print(type(a))\n",
    "def func(a,b):\n",
    " n = a+b\n",
    " x = a*b\n",
    " return n, x\n",
    "num1, num2 = func(10,20)\n",
    "print(num1)\n",
    "print(num2)"
   ]
  },
  {
   "cell_type": "code",
   "execution_count": 40,
   "metadata": {},
   "outputs": [
    {
     "name": "stdout",
     "output_type": "stream",
     "text": [
      "28.274333882308138\n"
     ]
    }
   ],
   "source": [
    "import math # 要使⽤圓周率 pi 得引入套件 math\n",
    "def circle_area(r):\n",
    " '輸入半徑長度可以計算出圓⾯積'\n",
    " return math.pi * r ** 2\n",
    "print (circle_area(3))"
   ]
  },
  {
   "cell_type": "code",
   "execution_count": 41,
   "metadata": {},
   "outputs": [
    {
     "name": "stdout",
     "output_type": "stream",
     "text": [
      "18.84955592153876\n"
     ]
    }
   ],
   "source": [
    "import math # 要使⽤圓周率 pi 得引入套件 math\n",
    "def circle_circum(r):\n",
    " '輸入半徑長度可以計算出圓周長'\n",
    " return 2 * math.pi * r\n",
    "print (circle_circum(3))"
   ]
  },
  {
   "cell_type": "code",
   "execution_count": 44,
   "metadata": {},
   "outputs": [
    {
     "name": "stdout",
     "output_type": "stream",
     "text": [
      "28.274333882308138\n",
      "18.84955592153876\n"
     ]
    }
   ],
   "source": [
    "import math # 要使⽤圓周率 pi 得引入套件 math\n",
    "def circle_calculator(r, is_area = True):\n",
    " '''\n",
    " 輸入半徑長度可以計算出圓⾯積與圓周長\n",
    " 利⽤參數 is_area 決定要回傳圓⾯積或圓周長\n",
    " 預設回傳圓⾯積\n",
    " '''\n",
    " if is_area == True:\n",
    "  return math.pi * r ** 2\n",
    " else:\n",
    "  return 2 * math.pi * r\n",
    "print (circle_calculator(3))\n",
    "print (circle_calculator(3, is_area = False))"
   ]
  },
  {
   "cell_type": "code",
   "execution_count": 119,
   "metadata": {},
   "outputs": [
    {
     "name": "stdout",
     "output_type": "stream",
     "text": [
      "<module 'math' (built-in)>\n"
     ]
    }
   ],
   "source": []
  },
  {
   "cell_type": "code",
   "execution_count": 123,
   "metadata": {},
   "outputs": [
    {
     "ename": "TypeError",
     "evalue": "circle_calculator() missing 1 required positional argument: 'is_area'",
     "output_type": "error",
     "traceback": [
      "\u001b[1;31m---------------------------------------------------------------------------\u001b[0m",
      "\u001b[1;31mTypeError\u001b[0m                                 Traceback (most recent call last)",
      "\u001b[1;32m<ipython-input-123-d56152fd7821>\u001b[0m in \u001b[0;36m<module>\u001b[1;34m()\u001b[0m\n\u001b[0;32m     10\u001b[0m  \u001b[1;32melse\u001b[0m\u001b[1;33m:\u001b[0m\u001b[1;33m\u001b[0m\u001b[0m\n\u001b[0;32m     11\u001b[0m   \u001b[1;32mreturn\u001b[0m \u001b[1;36m2\u001b[0m \u001b[1;33m*\u001b[0m \u001b[0mmath\u001b[0m\u001b[1;33m.\u001b[0m\u001b[0mpi\u001b[0m \u001b[1;33m*\u001b[0m \u001b[0mr\u001b[0m\u001b[1;33m\u001b[0m\u001b[0m\n\u001b[1;32m---> 12\u001b[1;33m \u001b[0mprint\u001b[0m \u001b[1;33m(\u001b[0m\u001b[0mcircle_calculator\u001b[0m\u001b[1;33m(\u001b[0m\u001b[1;36m3\u001b[0m\u001b[1;33m)\u001b[0m\u001b[1;33m)\u001b[0m\u001b[1;33m\u001b[0m\u001b[0m\n\u001b[0m",
      "\u001b[1;31mTypeError\u001b[0m: circle_calculator() missing 1 required positional argument: 'is_area'"
     ]
    }
   ],
   "source": [
    "import math # 要使⽤圓周率 pi 得引入套件 math\n",
    "def circle_calculator(r, is_area): # 沒有指定預設值\n",
    " '''\n",
    " 輸入半徑長度可以計算出圓⾯積與圓周長\n",
    " 利⽤參數 is_area 決定要回傳圓⾯積或圓周長\n",
    " 預設回傳圓⾯積\n",
    " '''\n",
    " if is_area == True:\n",
    "  return math.pi * r ** 2\n",
    " else:\n",
    "  return 2 * math.pi * r\n",
    "print circle_calculator(3) # 沒有指定 is_area 參數的值"
   ]
  },
  {
   "cell_type": "code",
   "execution_count": 50,
   "metadata": {},
   "outputs": [
    {
     "name": "stdout",
     "output_type": "stream",
     "text": [
      "(28.274333882308138, 18.84955592153876)\n"
     ]
    }
   ],
   "source": [
    "import math # 要使⽤圓周率 pi 得引入套件 math\n",
    "def circle_calculator(r):\n",
    " '''\n",
    " 輸入半徑長度可以計算出圓⾯積與圓周長\n",
    " 將圓⾯積與圓周長⼀起回傳\n",
    " '''\n",
    " area = math.pi * r ** 2\n",
    " circum = 2 * math.pi * r\n",
    " return area, circum\n",
    "print (circle_calculator(3))"
   ]
  },
  {
   "cell_type": "code",
   "execution_count": 97,
   "metadata": {},
   "outputs": [
    {
     "name": "stdout",
     "output_type": "stream",
     "text": [
      "9\n"
     ]
    }
   ],
   "source": [
    "my_squared = lambda x : x ** 2\n",
    "print (my_squared(3))"
   ]
  },
  {
   "cell_type": "code",
   "execution_count": 103,
   "metadata": {},
   "outputs": [
    {
     "name": "stdout",
     "output_type": "stream",
     "text": [
      "<filter object at 0x000000D630DFAC88>\n",
      "<map object at 0x000000D630DE5F28>\n"
     ]
    },
    {
     "ename": "NameError",
     "evalue": "name 'reduce' is not defined",
     "output_type": "error",
     "traceback": [
      "\u001b[1;31m---------------------------------------------------------------------------\u001b[0m",
      "\u001b[1;31mNameError\u001b[0m                                 Traceback (most recent call last)",
      "\u001b[1;32m<ipython-input-103-a48fa1e3ac29>\u001b[0m in \u001b[0;36m<module>\u001b[1;34m()\u001b[0m\n\u001b[0;32m      4\u001b[0m \u001b[0mprint\u001b[0m \u001b[1;33m(\u001b[0m\u001b[0mmap\u001b[0m\u001b[1;33m(\u001b[0m\u001b[1;32mlambda\u001b[0m \u001b[0mx\u001b[0m \u001b[1;33m:\u001b[0m \u001b[0mx\u001b[0m \u001b[1;33m**\u001b[0m \u001b[1;36m2\u001b[0m\u001b[1;33m,\u001b[0m \u001b[0mmy_list\u001b[0m\u001b[1;33m)\u001b[0m\u001b[1;33m)\u001b[0m\u001b[1;33m\u001b[0m\u001b[0m\n\u001b[0;32m      5\u001b[0m \u001b[0mmy_list\u001b[0m \u001b[1;33m=\u001b[0m \u001b[0mrange\u001b[0m\u001b[1;33m(\u001b[0m\u001b[1;36m1\u001b[0m\u001b[1;33m,\u001b[0m \u001b[1;36m11\u001b[0m\u001b[1;33m)\u001b[0m\u001b[1;33m\u001b[0m\u001b[0m\n\u001b[1;32m----> 6\u001b[1;33m \u001b[0mprint\u001b[0m \u001b[1;33m(\u001b[0m\u001b[0mreduce\u001b[0m\u001b[1;33m(\u001b[0m\u001b[1;32mlambda\u001b[0m \u001b[0mx\u001b[0m\u001b[1;33m,\u001b[0m \u001b[0my\u001b[0m \u001b[1;33m:\u001b[0m \u001b[0mx\u001b[0m \u001b[1;33m+\u001b[0m \u001b[0my\u001b[0m\u001b[1;33m,\u001b[0m \u001b[0mmy_list\u001b[0m\u001b[1;33m)\u001b[0m\u001b[1;33m)\u001b[0m\u001b[1;33m\u001b[0m\u001b[0m\n\u001b[0m",
      "\u001b[1;31mNameError\u001b[0m: name 'reduce' is not defined"
     ]
    }
   ],
   "source": [
    "my_list = range(1, 11)\n",
    "print (filter(lambda x : x % 2 == 0, my_list))\n",
    "my_list = range(1, 11)\n",
    "print (map(lambda x : x ** 2, my_list))\n",
    "my_list = range(1, 11)\n",
    "print (reduce(lambda x, y : x + y, my_list))"
   ]
  },
  {
   "cell_type": "code",
   "execution_count": 62,
   "metadata": {},
   "outputs": [
    {
     "name": "stdout",
     "output_type": "stream",
     "text": [
      "55.0\n"
     ]
    }
   ],
   "source": [
    "def my_mean(x):\n",
    " '計算平均數'\n",
    " def my_sum(x):\n",
    "  '計算輸入 list 中的數字加總'\n",
    " summation = 0.0\n",
    " for i in x:\n",
    "  summation += i\n",
    " return summation\n",
    " def my_len(x):\n",
    "  '計算輸入 list 中有幾個元素'\n",
    " cnt = 0\n",
    " for i in x:\n",
    "  cnt += 1\n",
    " return cnt\n",
    " return my_sum(x) / my_len(x)\n",
    "# 呼叫⾃訂函數\n",
    "my_list = range(1, 11)\n",
    "print (my_mean(my_list))"
   ]
  },
  {
   "cell_type": "code",
   "execution_count": 57,
   "metadata": {},
   "outputs": [
    {
     "name": "stdout",
     "output_type": "stream",
     "text": [
      "請輸入數值。\n",
      "請輸入數值。\n",
      "None\n",
      "除數不可以為零。\n",
      "None\n"
     ]
    }
   ],
   "source": [
    "def my_squared(x):\n",
    " '計算平⽅數且具有錯誤處理的函數'\n",
    " try:\n",
    "  return x ** 2\n",
    " except:\n",
    "  print(\"請輸入數值。\")\n",
    "my_squared(\"3\")\n",
    "def divide(x, y):\n",
    " try:\n",
    "  return x / y\n",
    " except TypeError:\n",
    "  print(\"請輸入數值。\")\n",
    " except ZeroDivisionError:\n",
    "  print(\"除數不可以為零。\")\n",
    " except:\n",
    "  print(\"其他的錯誤\")\n",
    "print (divide(\"9\", 3))\n",
    "print (divide(9, 0))"
   ]
  },
  {
   "cell_type": "code",
   "execution_count": 4,
   "metadata": {},
   "outputs": [
    {
     "ename": "SyntaxError",
     "evalue": "invalid character in identifier (<ipython-input-4-cc3bab0dcf2e>, line 4)",
     "output_type": "error",
     "traceback": [
      "\u001b[1;36m  File \u001b[1;32m\"<ipython-input-4-cc3bab0dcf2e>\"\u001b[1;36m, line \u001b[1;32m4\u001b[0m\n\u001b[1;33m    print (天氣是%s，去⼾外跑步\" % weather)\u001b[0m\n\u001b[1;37m                     ^\u001b[0m\n\u001b[1;31mSyntaxError\u001b[0m\u001b[1;31m:\u001b[0m invalid character in identifier\n"
     ]
    }
   ],
   "source": []
  },
  {
   "cell_type": "code",
   "execution_count": null,
   "metadata": {},
   "outputs": [],
   "source": []
  }
 ],
 "metadata": {
  "kernelspec": {
   "display_name": "Python 3",
   "language": "python",
   "name": "python3"
  },
  "language_info": {
   "codemirror_mode": {
    "name": "ipython",
    "version": 3
   },
   "file_extension": ".py",
   "mimetype": "text/x-python",
   "name": "python",
   "nbconvert_exporter": "python",
   "pygments_lexer": "ipython3",
   "version": "3.7.0"
  }
 },
 "nbformat": 4,
 "nbformat_minor": 2
}
